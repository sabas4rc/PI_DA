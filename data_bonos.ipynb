{
 "cells": [
  {
   "cell_type": "code",
   "execution_count": 7,
   "id": "ad28ff9a-ecd7-48c6-8528-b6bf1fdc11a9",
   "metadata": {},
   "outputs": [
    {
     "name": "stdout",
     "output_type": "stream",
     "text": [
      "[*********************100%%**********************]  1 of 1 completed\n",
      "Datos exportados a historial_rendimiento_bonos_tesoro.csv\n"
     ]
    }
   ],
   "source": [
    "import yfinance as yf\n",
    "import pandas as pd\n",
    "import datetime\n",
    "\n",
    "# Símbolo de bonos del Tesoro de EE. UU. a 10 años\n",
    "bond_symbol = '^TNX'\n",
    "\n",
    "# Obtener la fecha actual y la fecha hace 5 años\n",
    "end_date = datetime.datetime.now()\n",
    "start_date = end_date - datetime.timedelta(days=(5 * 365)+229)  # 5 años atrás\n",
    "\n",
    "# Obtener los datos históricos\n",
    "bond_data = yf.download(bond_symbol, start=start_date, end=end_date)\n",
    "\n",
    "# Guardar el DataFrame en un archivo CSV\n",
    "bond_data.to_csv('E:\\sabas\\Henry\\Proyecto2\\PI_DA\\Dataset\\historial_rendimiento_bonos_tesoro.csv')\n",
    "\n",
    "print(\"Datos exportados a historial_rendimiento_bonos_tesoro.csv\")\n"
   ]
  }
 ],
 "metadata": {
  "kernelspec": {
   "display_name": "Python 3 (ipykernel)",
   "language": "python",
   "name": "python3"
  },
  "language_info": {
   "codemirror_mode": {
    "name": "ipython",
    "version": 3
   },
   "file_extension": ".py",
   "mimetype": "text/x-python",
   "name": "python",
   "nbconvert_exporter": "python",
   "pygments_lexer": "ipython3",
   "version": "3.8.7"
  }
 },
 "nbformat": 4,
 "nbformat_minor": 5
}
