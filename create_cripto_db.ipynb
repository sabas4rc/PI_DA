{
 "cells": [
  {
   "cell_type": "code",
   "execution_count": 16,
   "metadata": {},
   "outputs": [],
   "source": [
    "import mysql.connector\n",
    "import pandas as pd\n",
    "\n",
    "# Conexión a la base de datos MySQL\n",
    "db_connection = mysql.connector.connect(\n",
    "    host=\"localhost\",\n",
    "    user=\"root\",\n",
    "    password=\"12345678\",\n",
    "    database=\"cripto_db\"\n",
    ")"
   ]
  },
  {
   "cell_type": "code",
   "execution_count": 17,
   "metadata": {},
   "outputs": [],
   "source": [
    "# Ruta al archivo CSV\n",
    "csv_file = ['E:/sabas/Henry/Proyecto2/PI_DA/Dataset/spread_diario_binance.csv', 'E:/sabas/Henry/Proyecto2/PI_DA/Dataset/spread_diario_binance.csv', 'E:/sabas/Henry/Proyecto2/PI_DA/Dataset/historial_rendimiento_bonos_tesoro.csv']\n",
    "\n",
    "# Leer el archivo CSV utilizando pandas\n",
    "df = pd.read_csv(csv_file)\n",
    "\n",
    "# Crear una instancia del cursor\n",
    "cursor = db_connection.cursor()"
   ]
  },
  {
   "cell_type": "code",
   "execution_count": 18,
   "metadata": {},
   "outputs": [],
   "source": [
    "# Crear la tabla en la base de datos (si aún no existe)\n",
    "create_table_query = \"\"\"\n",
    "CREATE TABLE IF NOT EXISTS cripto_data (\n",
    "    id INT AUTO_INCREMENT PRIMARY KEY,\n",
    "    criptomoneda VARCHAR(255),\n",
    "    fecha DATE,\n",
    "    precio FLOAT,\n",
    "    marketcap FLOAT,\n",
    "    vol_transac FLOAT\n",
    ")\n",
    "\"\"\"\n",
    "cursor.execute(create_table_query)\n",
    "db_connection.commit()"
   ]
  },
  {
   "cell_type": "code",
   "execution_count": 19,
   "metadata": {},
   "outputs": [
    {
     "name": "stdout",
     "output_type": "stream",
     "text": [
      "Datos importados a la base de datos MySQL.\n"
     ]
    }
   ],
   "source": [
    "# Insertar los datos desde el DataFrame a la tabla\n",
    "insert_query = \"INSERT INTO cripto_data (criptomoneda, fecha, precio, marketcap, vol_transac) VALUES (%s, %s, %s, %s, %s)\"\n",
    "\n",
    "for index, row in df.iterrows():\n",
    "    values = (row['Criptomoneda'], row['Timestamp'], row['Precio'], row['Market Cap'], row['Volumen de Transaccion'])\n",
    "    cursor.execute(insert_query, values)\n",
    "\n",
    "\n",
    "\n",
    "\n",
    "db_connection.commit()\n",
    "\n",
    "# Cerrar la conexión\n",
    "cursor.close()\n",
    "db_connection.close()\n",
    "\n",
    "print(\"Datos importados a la base de datos MySQL.\")\n"
   ]
  }
 ],
 "metadata": {
  "kernelspec": {
   "display_name": "Python 3",
   "language": "python",
   "name": "python3"
  },
  "language_info": {
   "codemirror_mode": {
    "name": "ipython",
    "version": 3
   },
   "file_extension": ".py",
   "mimetype": "text/x-python",
   "name": "python",
   "nbconvert_exporter": "python",
   "pygments_lexer": "ipython3",
   "version": "3.8.7"
  },
  "orig_nbformat": 4
 },
 "nbformat": 4,
 "nbformat_minor": 2
}
