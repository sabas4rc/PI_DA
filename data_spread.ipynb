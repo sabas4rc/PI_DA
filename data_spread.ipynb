{
 "cells": [
  {
   "cell_type": "code",
   "execution_count": 70,
   "id": "96b62836-f939-4ed6-9d56-b3ef8792c068",
   "metadata": {},
   "outputs": [],
   "source": [
    "from binance.client import Client\n",
    "import pandas as pd\n",
    "import datetime\n",
    "\n",
    "# Reemplaza con tus propias claves API\n",
    "api_key = '3WiCAiEyWi7HjnBd6RVgpq9P7AK9STyrW7aaC5cjwkfWxX9LkrHruGRbbrCKmROv'\n",
    "api_secret = 'am3Lb7vnJHcYZosuf3CPLgSyXKkJKIEjrN4rAJ2469IMbm5t9dJxBQCnyj4VIVhl'\n"
   ]
  },
  {
   "cell_type": "code",
   "execution_count": 71,
   "id": "0f1da44b-f268-4afa-84a9-5d345b8f8f67",
   "metadata": {},
   "outputs": [],
   "source": [
    "\n",
    "# Creamos una instancia del cliente Binance\n",
    "client = Client(api_key, api_secret)\n",
    "\n",
    "# Definimos los pares de trading que vamos a analizar (contra USDT)\n",
    "pares_a_analizar = ['BTCUSDT','ETHUSDT','BNBUSDT','XRPUSDT', 'USDCUSDT','DOGEUSDT','ADAUSDT','SOLUSDT']"
   ]
  },
  {
   "cell_type": "code",
   "execution_count": 72,
   "id": "b49b34d0-4c32-4d94-ab28-d85ff410f577",
   "metadata": {},
   "outputs": [],
   "source": [
    "# Obtenemos la fecha actual\n",
    "end_date = datetime.datetime.now()\n",
    "\n",
    "# Calculamos la fecha de inicio hace 5 años mas los dias de este año\n",
    "start_date = end_date - datetime.timedelta(days=(5 * 365)+227)"
   ]
  },
  {
   "cell_type": "code",
   "execution_count": 73,
   "id": "60a7df03-0905-423c-99bc-6c2e9f01c376",
   "metadata": {},
   "outputs": [],
   "source": [
    "\n",
    "# Creamos un DataFrame vacío para almacenar los datos\n",
    "data = []"
   ]
  },
  {
   "cell_type": "code",
   "execution_count": 74,
   "id": "8d5bc0ab-7133-41dd-8426-a7fcd1f28347",
   "metadata": {},
   "outputs": [],
   "source": [
    "# Iteramos sobre los pares de trading definidos\n",
    "for symbol in pares_a_analizar:\n",
    "    \n",
    "    try:\n",
    "        # Obtenemos los datos del libro de órdenes para el par de trading en el período deseado\n",
    "        order_book = client.get_historical_klines(symbol=symbol, interval=Client.KLINE_INTERVAL_1DAY,\n",
    "                                                  start_str=start_date.strftime(\"%d %b, %Y\"),\n",
    "                                                  end_str=end_date.strftime(\"%d %b, %Y\"))\n",
    "\n",
    "        # Calculamos el spread diario para cada día en el período\n",
    "        daily_spreads = [(float(entry[2]) - float(entry[3])) for entry in order_book]\n",
    "\n",
    "        # Agregamos los datos al DataFrame\n",
    "        for i, spread in enumerate(daily_spreads):\n",
    "            data.append([symbol, start_date + datetime.timedelta(days=i), spread])\n",
    "        \n",
    "    except Exception as e:\n",
    "        print(f\"Error al obtener datos de {symbol}: {str(e)}\")\n"
   ]
  },
  {
   "cell_type": "code",
   "execution_count": 75,
   "id": "25fdffe1-63b0-472b-bf39-c7fdcbbda6ba",
   "metadata": {},
   "outputs": [],
   "source": [
    "# Creamos el DataFrame final\n",
    "columns = ['Par de Trading', 'Fecha', 'Spread Diario']\n",
    "df = pd.DataFrame(data, columns=columns)"
   ]
  },
  {
   "cell_type": "code",
   "execution_count": 76,
   "id": "0f081865-37f7-4036-9cdd-063ad8d25ed7",
   "metadata": {},
   "outputs": [
    {
     "name": "stdout",
     "output_type": "stream",
     "text": [
      "Datos exportados a liquidez_binance_data.csv\n"
     ]
    }
   ],
   "source": [
    "# Guardamos el DataFrame en un archivo CSV\n",
    "df.to_csv('E:/sabas/Henry/Proyecto2/PI_DA/Dataset/spread_binance.csv', index=False)\n",
    "\n",
    "print(\"Datos exportados a spread_binance.csv\")"
   ]
  }
 ],
 "metadata": {
  "kernelspec": {
   "display_name": "Python 3 (ipykernel)",
   "language": "python",
   "name": "python3"
  },
  "language_info": {
   "codemirror_mode": {
    "name": "ipython",
    "version": 3
   },
   "file_extension": ".py",
   "mimetype": "text/x-python",
   "name": "python",
   "nbconvert_exporter": "python",
   "pygments_lexer": "ipython3",
   "version": "3.8.7"
  }
 },
 "nbformat": 4,
 "nbformat_minor": 5
}
