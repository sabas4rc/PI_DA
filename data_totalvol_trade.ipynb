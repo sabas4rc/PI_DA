{
 "cells": [
  {
   "cell_type": "code",
   "execution_count": 10,
   "id": "3e358cbe-e493-425c-aa33-ee2e9466a4d4",
   "metadata": {},
   "outputs": [
    {
     "name": "stdout",
     "output_type": "stream",
     "text": [
      "Datos exportados a volumen_total_diario.csv\n"
     ]
    }
   ],
   "source": [
    "from binance.client import Client\n",
    "import pandas as pd\n",
    "import datetime\n",
    "\n",
    "# Reemplaza con tus propias claves API\n",
    "api_key = '3WiCAiEyWi7HjnBd6RVgpq9P7AK9STyrW7aaC5cjwkfWxX9LkrHruGRbbrCKmROv'\n",
    "api_secret = 'am3Lb7vnJHcYZosuf3CPLgSyXKkJKIEjrN4rAJ2469IMbm5t9dJxBQCnyj4VIVhl'\n",
    "\n",
    "# Crea una instancia del cliente Binance\n",
    "client = Client(api_key, api_secret)\n",
    "\n",
    "from binance.client import Client\n",
    "import pandas as pd\n",
    "import datetime\n",
    "\n",
    "\n",
    "# Obtener la lista de todos los pares de trading disponibles\n",
    "exchange_info = client.get_exchange_info()\n",
    "symbols = [symbol['symbol'] for symbol in exchange_info['symbols']]\n",
    "\n",
    "# Obtener la fecha actual y la fecha hace 5 años\n",
    "end_date = datetime.datetime.now()\n",
    "start_date = end_date - datetime.timedelta(days=5 * 365)  # 5 años atrás\n",
    "\n",
    "# Crear un DataFrame vacío para almacenar los datos\n",
    "data = []\n",
    "\n",
    "# Iterar sobre los pares de trading\n",
    "for symbol in symbols:\n",
    "    try:\n",
    "        # Obtener los datos de klines (candlesticks) desde hace 5 años hasta hoy\n",
    "        klines = client.get_historical_klines(symbol, Client.KLINE_INTERVAL_1DAY, start_date.strftime('%d %b %Y %H:%M:%S'), end_date.strftime('%d %b %Y %H:%M:%S'))\n",
    "\n",
    "        # Calcular el volumen total diario sumando los volúmenes de cada día\n",
    "        daily_volume = sum(float(kline[5]) for kline in klines)\n",
    "\n",
    "        data.append([symbol, daily_volume])\n",
    "        \n",
    "    except Exception as e:\n",
    "        print(f\"Error al obtener datos de {symbol}: {str(e)}\")\n",
    "\n",
    "# Crear el DataFrame final\n",
    "df = pd.DataFrame(data, columns=['Par', 'Volumen total diario'])\n",
    "\n",
    "# Guardar el DataFrame en un archivo CSV\n",
    "df.to_csv('E:/sabas/Henry/Proyecto2/PI_DA/Dataset/volumen_total_diario.csv', index=False)\n",
    "\n",
    "print(\"Datos exportados a volumen_total_diario.csv\")\n"
   ]
  }
 ],
 "metadata": {
  "kernelspec": {
   "display_name": "Python 3 (ipykernel)",
   "language": "python",
   "name": "python3"
  },
  "language_info": {
   "codemirror_mode": {
    "name": "ipython",
    "version": 3
   },
   "file_extension": ".py",
   "mimetype": "text/x-python",
   "name": "python",
   "nbconvert_exporter": "python",
   "pygments_lexer": "ipython3",
   "version": "3.8.7"
  }
 },
 "nbformat": 4,
 "nbformat_minor": 5
}
