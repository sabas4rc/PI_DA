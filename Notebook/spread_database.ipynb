{
 "cells": [
  {
   "cell_type": "code",
   "execution_count": 63,
   "metadata": {},
   "outputs": [],
   "source": [
    "import mysql.connector\n",
    "import pandas as pd\n",
    "from datetime import datetime\n",
    "from sqlalchemy import create_engine, Column, String, Float, DateTime, Integer\n",
    "from sqlalchemy.orm import sessionmaker\n",
    "from sqlalchemy.orm import declarative_base"
   ]
  },
  {
   "cell_type": "code",
   "execution_count": 64,
   "metadata": {},
   "outputs": [],
   "source": [
    "# Configurar la conexión a la base de datos\n",
    "user = \"root\"\n",
    "password = \"12345678\"\n",
    "host = \"localhost\"\n",
    "database = \"cripto_db\"\n",
    "\n",
    "engine = create_engine(f\"mysql+mysqlconnector://{user}:{password}@{host}/{database}\")"
   ]
  },
  {
   "cell_type": "code",
   "execution_count": 65,
   "metadata": {},
   "outputs": [],
   "source": [
    "#configurar pandas para que muestre los numeros completos y con solo 2 decimales\n",
    "pd.set_option('display.float_format', '{:.2f}'.format)"
   ]
  },
  {
   "cell_type": "code",
   "execution_count": 66,
   "metadata": {},
   "outputs": [],
   "source": [
    "df_spread = pd.read_csv('../Dataset/spread_binance.csv')"
   ]
  },
  {
   "cell_type": "code",
   "execution_count": 67,
   "metadata": {},
   "outputs": [
    {
     "name": "stdout",
     "output_type": "stream",
     "text": [
      "<class 'pandas.core.frame.DataFrame'>\n",
      "RangeIndex: 14227 entries, 0 to 14226\n",
      "Data columns (total 6 columns):\n",
      " #   Column          Non-Null Count  Dtype  \n",
      "---  ------          --------------  -----  \n",
      " 0   Par de Trading  14227 non-null  object \n",
      " 1   Fecha           14227 non-null  object \n",
      " 2   open            14227 non-null  float64\n",
      " 3   high            14227 non-null  float64\n",
      " 4   low             14227 non-null  float64\n",
      " 5   close           14227 non-null  float64\n",
      "dtypes: float64(4), object(2)\n",
      "memory usage: 667.0+ KB\n"
     ]
    }
   ],
   "source": [
    "df_spread.info()"
   ]
  },
  {
   "cell_type": "code",
   "execution_count": 68,
   "metadata": {},
   "outputs": [],
   "source": [
    "# Cambiar los nombres de las columnas\n",
    "df_spread.rename(columns={'Par de Trading': 'nombre','Fecha': 'fecha'}, inplace=True)"
   ]
  },
  {
   "cell_type": "code",
   "execution_count": 69,
   "metadata": {},
   "outputs": [
    {
     "data": {
      "text/html": [
       "<div>\n",
       "<style scoped>\n",
       "    .dataframe tbody tr th:only-of-type {\n",
       "        vertical-align: middle;\n",
       "    }\n",
       "\n",
       "    .dataframe tbody tr th {\n",
       "        vertical-align: top;\n",
       "    }\n",
       "\n",
       "    .dataframe thead th {\n",
       "        text-align: right;\n",
       "    }\n",
       "</style>\n",
       "<table border=\"1\" class=\"dataframe\">\n",
       "  <thead>\n",
       "    <tr style=\"text-align: right;\">\n",
       "      <th></th>\n",
       "      <th>nombre</th>\n",
       "      <th>fecha</th>\n",
       "      <th>open</th>\n",
       "      <th>high</th>\n",
       "      <th>low</th>\n",
       "      <th>close</th>\n",
       "    </tr>\n",
       "  </thead>\n",
       "  <tbody>\n",
       "    <tr>\n",
       "      <th>0</th>\n",
       "      <td>BTCUSDT</td>\n",
       "      <td>2018-01-01 09:14:15.655323</td>\n",
       "      <td>13715.65</td>\n",
       "      <td>13818.55</td>\n",
       "      <td>12750.00</td>\n",
       "      <td>13380.00</td>\n",
       "    </tr>\n",
       "    <tr>\n",
       "      <th>1</th>\n",
       "      <td>BTCUSDT</td>\n",
       "      <td>2018-01-02 09:14:15.655323</td>\n",
       "      <td>13382.16</td>\n",
       "      <td>15473.49</td>\n",
       "      <td>12890.02</td>\n",
       "      <td>14675.11</td>\n",
       "    </tr>\n",
       "    <tr>\n",
       "      <th>2</th>\n",
       "      <td>BTCUSDT</td>\n",
       "      <td>2018-01-03 09:14:15.655323</td>\n",
       "      <td>14690.00</td>\n",
       "      <td>15307.56</td>\n",
       "      <td>14150.00</td>\n",
       "      <td>14919.51</td>\n",
       "    </tr>\n",
       "    <tr>\n",
       "      <th>3</th>\n",
       "      <td>BTCUSDT</td>\n",
       "      <td>2018-01-04 09:14:15.655323</td>\n",
       "      <td>14919.51</td>\n",
       "      <td>15280.00</td>\n",
       "      <td>13918.04</td>\n",
       "      <td>15059.54</td>\n",
       "    </tr>\n",
       "    <tr>\n",
       "      <th>4</th>\n",
       "      <td>BTCUSDT</td>\n",
       "      <td>2018-01-05 09:14:15.655323</td>\n",
       "      <td>15059.56</td>\n",
       "      <td>17176.24</td>\n",
       "      <td>14600.00</td>\n",
       "      <td>16960.39</td>\n",
       "    </tr>\n",
       "    <tr>\n",
       "      <th>5</th>\n",
       "      <td>BTCUSDT</td>\n",
       "      <td>2018-01-06 09:14:15.655323</td>\n",
       "      <td>16960.39</td>\n",
       "      <td>17143.13</td>\n",
       "      <td>16011.21</td>\n",
       "      <td>17069.79</td>\n",
       "    </tr>\n",
       "    <tr>\n",
       "      <th>6</th>\n",
       "      <td>BTCUSDT</td>\n",
       "      <td>2018-01-07 09:14:15.655323</td>\n",
       "      <td>17069.79</td>\n",
       "      <td>17099.96</td>\n",
       "      <td>15610.00</td>\n",
       "      <td>16150.03</td>\n",
       "    </tr>\n",
       "    <tr>\n",
       "      <th>7</th>\n",
       "      <td>BTCUSDT</td>\n",
       "      <td>2018-01-08 09:14:15.655323</td>\n",
       "      <td>16218.85</td>\n",
       "      <td>16322.30</td>\n",
       "      <td>12812.00</td>\n",
       "      <td>14902.54</td>\n",
       "    </tr>\n",
       "    <tr>\n",
       "      <th>8</th>\n",
       "      <td>BTCUSDT</td>\n",
       "      <td>2018-01-09 09:14:15.655323</td>\n",
       "      <td>14902.54</td>\n",
       "      <td>15500.00</td>\n",
       "      <td>14011.05</td>\n",
       "      <td>14400.00</td>\n",
       "    </tr>\n",
       "    <tr>\n",
       "      <th>9</th>\n",
       "      <td>BTCUSDT</td>\n",
       "      <td>2018-01-10 09:14:15.655323</td>\n",
       "      <td>14401.00</td>\n",
       "      <td>14955.66</td>\n",
       "      <td>13131.31</td>\n",
       "      <td>14907.09</td>\n",
       "    </tr>\n",
       "  </tbody>\n",
       "</table>\n",
       "</div>"
      ],
      "text/plain": [
       "    nombre                       fecha     open     high      low    close\n",
       "0  BTCUSDT  2018-01-01 09:14:15.655323 13715.65 13818.55 12750.00 13380.00\n",
       "1  BTCUSDT  2018-01-02 09:14:15.655323 13382.16 15473.49 12890.02 14675.11\n",
       "2  BTCUSDT  2018-01-03 09:14:15.655323 14690.00 15307.56 14150.00 14919.51\n",
       "3  BTCUSDT  2018-01-04 09:14:15.655323 14919.51 15280.00 13918.04 15059.54\n",
       "4  BTCUSDT  2018-01-05 09:14:15.655323 15059.56 17176.24 14600.00 16960.39\n",
       "5  BTCUSDT  2018-01-06 09:14:15.655323 16960.39 17143.13 16011.21 17069.79\n",
       "6  BTCUSDT  2018-01-07 09:14:15.655323 17069.79 17099.96 15610.00 16150.03\n",
       "7  BTCUSDT  2018-01-08 09:14:15.655323 16218.85 16322.30 12812.00 14902.54\n",
       "8  BTCUSDT  2018-01-09 09:14:15.655323 14902.54 15500.00 14011.05 14400.00\n",
       "9  BTCUSDT  2018-01-10 09:14:15.655323 14401.00 14955.66 13131.31 14907.09"
      ]
     },
     "execution_count": 69,
     "metadata": {},
     "output_type": "execute_result"
    }
   ],
   "source": [
    "df_spread.head(10)"
   ]
  },
  {
   "cell_type": "code",
   "execution_count": 70,
   "metadata": {},
   "outputs": [
    {
     "name": "stdout",
     "output_type": "stream",
     "text": [
      "Datos importados a la tabla spread_cripto\n"
     ]
    }
   ],
   "source": [
    "# Crear una sesión\n",
    "Session = sessionmaker(bind=engine)\n",
    "session = Session()\n",
    "\n",
    "# Definir la clase modelo para la tabla \"spread_cripto\"\n",
    "Base = declarative_base()\n",
    "\n",
    "class SpreadCripto(Base):\n",
    "    __tablename__ = 'spread_cripto'\n",
    "\n",
    "    id = Column(Integer, primary_key=True)\n",
    "    fecha = Column(DateTime)\n",
    "    nombre = Column(String)\n",
    "    open = Column(Float)\n",
    "    high = Column(Float)\n",
    "    low = Column(Float)\n",
    "    close = Column(Float)\n",
    "\n",
    "\n",
    "# Leer los datos desde un DataFrame y cambiar formato de columna fecha\n",
    "df_spread = pd.DataFrame(df_spread)\n",
    "df_spread['fecha'] = df_spread['fecha'].apply(lambda x: pd.to_datetime(x).date())\n",
    "\n",
    "\n",
    "# Recorrer los datos y cargarlos en la base de datos\n",
    "for index, row in df_spread.iterrows():\n",
    "    entry = SpreadCripto(\n",
    "        fecha=row['fecha'], \n",
    "        nombre=row['nombre'], \n",
    "        open=row['open'],\n",
    "        high=row['high'],\n",
    "        low=row['low'],\n",
    "        close=row['close']\n",
    "    )\n",
    "    session.add(entry)\n",
    "\n",
    "# Confirmar los cambios y cerrar la sesión\n",
    "session.commit()\n",
    "session.close()\n",
    "\n",
    "print('Datos importados a la tabla spread_cripto')\n"
   ]
  }
 ],
 "metadata": {
  "kernelspec": {
   "display_name": "Python 3 (ipykernel)",
   "language": "python",
   "name": "python3"
  },
  "language_info": {
   "codemirror_mode": {
    "name": "ipython",
    "version": 3
   },
   "file_extension": ".py",
   "mimetype": "text/x-python",
   "name": "python",
   "nbconvert_exporter": "python",
   "pygments_lexer": "ipython3",
   "version": "3.11.4"
  }
 },
 "nbformat": 4,
 "nbformat_minor": 4
}
