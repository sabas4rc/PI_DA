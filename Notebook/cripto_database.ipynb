{
 "cells": [
  {
   "cell_type": "code",
   "execution_count": 2,
   "metadata": {},
   "outputs": [],
   "source": [
    "import mysql.connector\n",
    "import pandas as pd\n",
    "from datetime import datetime\n",
    "from sqlalchemy import create_engine, Column, String, Float, DateTime, Integer\n",
    "from sqlalchemy.orm import sessionmaker\n",
    "from sqlalchemy.orm import declarative_base"
   ]
  },
  {
   "cell_type": "code",
   "execution_count": 3,
   "metadata": {},
   "outputs": [],
   "source": [
    "# Configurar la conexión a la base de datos\n",
    "user = \"root\"\n",
    "password = \"12345678\"\n",
    "host = \"localhost\"\n",
    "database = \"cripto_db\"\n",
    "\n",
    "engine = create_engine(f\"mysql+mysqlconnector://{user}:{password}@{host}/{database}\")"
   ]
  },
  {
   "cell_type": "code",
   "execution_count": 4,
   "metadata": {},
   "outputs": [],
   "source": [
    "df_cripto = pd.read_csv('..\\Dataset\\cripto_data.csv')"
   ]
  },
  {
   "cell_type": "code",
   "execution_count": 27,
   "metadata": {},
   "outputs": [
    {
     "name": "stdout",
     "output_type": "stream",
     "text": [
      "<class 'pandas.core.frame.DataFrame'>\n",
      "RangeIndex: 18345 entries, 0 to 18344\n",
      "Data columns (total 5 columns):\n",
      " #   Column                  Non-Null Count  Dtype  \n",
      "---  ------                  --------------  -----  \n",
      " 0   Criptomoneda            18345 non-null  object \n",
      " 1   Timestamp               18345 non-null  object \n",
      " 2   Precio                  18345 non-null  float64\n",
      " 3   Market Cap              18345 non-null  float64\n",
      " 4   Volumen de Transaccion  18345 non-null  float64\n",
      "dtypes: float64(3), object(2)\n",
      "memory usage: 716.7+ KB\n"
     ]
    }
   ],
   "source": [
    "df_cripto.info(1)"
   ]
  },
  {
   "cell_type": "code",
   "execution_count": 28,
   "metadata": {},
   "outputs": [],
   "source": [
    "# Cambiar los nombres de las columnas\n",
    "df_cripto.rename(columns={'Timestamp': 'fecha', 'Criptomoneda': 'nombre','Volumen de Transaccion': 'volumen', 'Market Cap': 'marketcap','Precio': 'precio'}, inplace=True)"
   ]
  },
  {
   "cell_type": "code",
   "execution_count": null,
   "metadata": {},
   "outputs": [],
   "source": []
  },
  {
   "cell_type": "code",
   "execution_count": 29,
   "metadata": {},
   "outputs": [
    {
     "name": "stdout",
     "output_type": "stream",
     "text": [
      "Datos importados a la tabla 'cripto_data'\n"
     ]
    }
   ],
   "source": [
    "# Crear una sesión\n",
    "Session = sessionmaker(bind=engine)\n",
    "session = Session()\n",
    "\n",
    "# Definir la clase modelo para la tabla \"cripto_data\"\n",
    "Base = declarative_base()\n",
    "\n",
    "class SpreadCripto(Base):\n",
    "    __tablename__ = 'cripto_data'\n",
    "\n",
    "    id = Column(Integer, primary_key=True)\n",
    "    fecha = Column(DateTime)\n",
    "    nombre = Column(String)\n",
    "    precio = Column(Float)\n",
    "    volumen = Column(Float)\n",
    "    marketcap = Column(Float)\n",
    "\n",
    "\n",
    "# Leer los datos desde un DataFrame (por ejemplo)\n",
    "df_cripto = pd.DataFrame(df_cripto)\n",
    "df_cripto['fecha'] = pd.to_datetime(df_cripto['fecha'])\n",
    "\n",
    "\n",
    "# Recorrer los datos y cargarlos en la base de datos\n",
    "for index, row in df_cripto.iterrows():\n",
    "    entry = SpreadCripto(\n",
    "        fecha=row['fecha'], \n",
    "        nombre=row['nombre'], \n",
    "        precio=row['precio'], \n",
    "        volumen=row['volumen'], \n",
    "        marketcap=row['marketcap']\n",
    "    )\n",
    "    session.add(entry)\n",
    "\n",
    "# Confirmar los cambios y cerrar la sesión\n",
    "session.commit()\n",
    "session.close()\n",
    "\n",
    "print(\"Datos importados a la tabla 'cripto_data'\")\n"
   ]
  },
  {
   "cell_type": "code",
   "execution_count": null,
   "metadata": {},
   "outputs": [],
   "source": []
  },
  {
   "cell_type": "code",
   "execution_count": null,
   "metadata": {},
   "outputs": [],
   "source": []
  },
  {
   "cell_type": "code",
   "execution_count": 30,
   "metadata": {},
   "outputs": [
    {
     "ename": "NameError",
     "evalue": "name 'cursor' is not defined",
     "output_type": "error",
     "traceback": [
      "\u001b[1;31m---------------------------------------------------------------------------\u001b[0m",
      "\u001b[1;31mNameError\u001b[0m                                 Traceback (most recent call last)",
      "Cell \u001b[1;32mIn[30], line 12\u001b[0m\n\u001b[0;32m      1\u001b[0m \u001b[39m# Crear la tabla en la base de datos (si aún no existe)\u001b[39;00m\n\u001b[0;32m      2\u001b[0m create_table_query \u001b[39m=\u001b[39m \u001b[39m\"\"\"\u001b[39m\n\u001b[0;32m      3\u001b[0m \u001b[39mCREATE TABLE IF NOT EXISTS cripto_data (\u001b[39m\n\u001b[0;32m      4\u001b[0m \u001b[39m    id INT AUTO_INCREMENT PRIMARY KEY,\u001b[39m\n\u001b[1;32m   (...)\u001b[0m\n\u001b[0;32m     10\u001b[0m \u001b[39m)\u001b[39m\n\u001b[0;32m     11\u001b[0m \u001b[39m\"\"\"\u001b[39m\n\u001b[1;32m---> 12\u001b[0m cursor\u001b[39m.\u001b[39mexecute(create_table_query)\n\u001b[0;32m     13\u001b[0m db_connection\u001b[39m.\u001b[39mcommit()\n",
      "\u001b[1;31mNameError\u001b[0m: name 'cursor' is not defined"
     ]
    }
   ],
   "source": [
    "# Crear la tabla en la base de datos (si aún no existe)\n",
    "create_table_query = \"\"\"\n",
    "CREATE TABLE IF NOT EXISTS cripto_data (\n",
    "    id INT AUTO_INCREMENT PRIMARY KEY,\n",
    "    criptomoneda VARCHAR(255),\n",
    "    fecha DATE,\n",
    "    precio FLOAT,\n",
    "    marketcap FLOAT,\n",
    "    vol_transac FLOAT\n",
    ")\n",
    "\"\"\"\n",
    "cursor.execute(create_table_query)\n",
    "db_connection.commit()"
   ]
  },
  {
   "cell_type": "code",
   "execution_count": null,
   "metadata": {},
   "outputs": [
    {
     "name": "stdout",
     "output_type": "stream",
     "text": [
      "Datos importados a la base de datos MySQL.\n"
     ]
    }
   ],
   "source": [
    "# Insertar los datos desde el DataFrame a la tabla\n",
    "insert_query = \"INSERT INTO cripto_data (criptomoneda, fecha, precio, marketcap, vol_transac) VALUES (%s, %s, %s, %s, %s)\"\n",
    "\n",
    "for index, row in df.iterrows():\n",
    "    values = (row['Criptomoneda'], row['Timestamp'], row['Precio'], row['Market Cap'], row['Volumen de Transaccion'])\n",
    "    cursor.execute(insert_query, values)\n",
    "\n",
    "\n",
    "\n",
    "\n",
    "db_connection.commit()\n",
    "\n",
    "# Cerrar la conexión\n",
    "cursor.close()\n",
    "db_connection.close()\n",
    "\n",
    "print(\"Datos importados a la base de datos MySQL.\")\n"
   ]
  }
 ],
 "metadata": {
  "kernelspec": {
   "display_name": "Python 3",
   "language": "python",
   "name": "python3"
  },
  "language_info": {
   "codemirror_mode": {
    "name": "ipython",
    "version": 3
   },
   "file_extension": ".py",
   "mimetype": "text/x-python",
   "name": "python",
   "nbconvert_exporter": "python",
   "pygments_lexer": "ipython3",
   "version": "3.11.4"
  },
  "orig_nbformat": 4
 },
 "nbformat": 4,
 "nbformat_minor": 2
}
