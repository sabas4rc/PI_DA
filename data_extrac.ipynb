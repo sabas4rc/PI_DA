{
 "cells": [
  {
   "cell_type": "code",
   "execution_count": 11,
   "id": "ba1e4640",
   "metadata": {},
   "outputs": [],
   "source": [
    "import pandas as pd\n",
    "from pycoingecko import CoinGeckoAPI\n",
    "import datetime\n",
    "\n",
    "# Crear una instancia de la clase CoinGeckoAPI\n",
    "cg = CoinGeckoAPI()"
   ]
  },
  {
   "cell_type": "code",
   "execution_count": 12,
   "id": "5ae293f1",
   "metadata": {},
   "outputs": [],
   "source": [
    "# Obtener la lista de las 10 principales criptomonedas por market cap\n",
    "top_cryptos = cg.get_coins_markets(vs_currency='usd', order='market_cap_desc', per_page=10, page=1)"
   ]
  },
  {
   "cell_type": "code",
   "execution_count": 13,
   "id": "5e4ffbc7",
   "metadata": {},
   "outputs": [],
   "source": [
    "# Obtener la fecha de hoy y la fecha hace 5 años y agregra los dias que van hasta la fecha actual\n",
    "end_date = datetime.datetime.now()\n",
    "start_date = end_date - datetime.timedelta(days=(5 * 365)+229)"
   ]
  },
  {
   "cell_type": "code",
   "execution_count": 14,
   "id": "51b3c4ac",
   "metadata": {},
   "outputs": [],
   "source": [
    "# Convertir las fechas en formato Unix Timestamp\n",
    "end_date_unix = int(end_date.timestamp())\n",
    "start_date_unix = int(start_date.timestamp())"
   ]
  },
  {
   "cell_type": "code",
   "execution_count": 15,
   "id": "8f5dbef8",
   "metadata": {},
   "outputs": [],
   "source": [
    "# Crear un DataFrame vacío para almacenar los datos\n",
    "data = []"
   ]
  },
  {
   "cell_type": "code",
   "execution_count": 16,
   "id": "5cf9156e",
   "metadata": {},
   "outputs": [],
   "source": [
    "# Iterar sobre las 10 principales criptomonedas\n",
    "for crypto in top_cryptos:\n",
    "    crypto_id = crypto['id']\n",
    "    crypto_name = crypto['name']\n",
    "    \n",
    "    try:\n",
    "        # Obtener los datos de precios y volumen utilizando la API de CoinGecko\n",
    "        crypto_data = cg.get_coin_market_chart_range_by_id(id=crypto_id,\n",
    "                                                           vs_currency='usd',\n",
    "                                                           from_timestamp=start_date_unix,\n",
    "                                                           to_timestamp=end_date_unix)\n",
    "\n",
    "        # Los datos obtenidos contienen información de precios y volumen\n",
    "        price_data = crypto_data['prices']  # Lista de tuplas (timestamp, precio)\n",
    "        market_cap_data = crypto_data['market_caps']  # Lista de tuplas (timestamp, market cap)\n",
    "        trade_data = crypto_data['total_volumes']  # Lista de tuplas (timestamp, volumen de transacción)\n",
    "\n",
    "        # Agregar los datos al DataFrame\n",
    "        for i in range(len(price_data)):\n",
    "            timestamp = price_data[i][0]\n",
    "            price = price_data[i][1]\n",
    "            market_cap = market_cap_data[i][1]\n",
    "            trade_volume = trade_data[i][1]\n",
    "            data.append([crypto_name, timestamp, price, market_cap, trade_volume])\n",
    "        \n",
    "    except Exception as e:\n",
    "        print(f\"Error al obtener datos de {crypto_name}: {str(e)}\")\n"
   ]
  },
  {
   "cell_type": "code",
   "execution_count": 17,
   "id": "595bbf49",
   "metadata": {},
   "outputs": [],
   "source": [
    "# Crear el DataFrame final\n",
    "columns = ['Criptomoneda', 'Timestamp', 'Precio', 'Market Cap', 'Volumen de Transacción']\n",
    "df = pd.DataFrame(data, columns=columns)"
   ]
  },
  {
   "cell_type": "code",
   "execution_count": 18,
   "id": "b20cab20",
   "metadata": {},
   "outputs": [],
   "source": [
    "# Convertir el timestamp a formato de fecha\n",
    "df['Timestamp'] = pd.to_datetime(df['Timestamp'], unit='ms')"
   ]
  },
  {
   "cell_type": "code",
   "execution_count": 19,
   "id": "0155b78c",
   "metadata": {},
   "outputs": [
    {
     "name": "stdout",
     "output_type": "stream",
     "text": [
      "E:/sabas/Henry/Proyecto2/PI_DA/Dataset/criptosv2.csv\n"
     ]
    }
   ],
   "source": [
    "# Exportar el DataFrame a un archivo CSV\n",
    "df.to_csv('E:/sabas/Henry/Proyecto2/PI_DA/Dataset/criptosv2.csv', index=False)\n",
    "\n",
    "print(\"E:/sabas/Henry/Proyecto2/PI_DA/Dataset/criptosv2.csv\")"
   ]
  },
  {
   "cell_type": "code",
   "execution_count": null,
   "id": "40af5cbf",
   "metadata": {},
   "outputs": [],
   "source": []
  },
  {
   "cell_type": "code",
   "execution_count": null,
   "id": "fc1d4112",
   "metadata": {},
   "outputs": [],
   "source": []
  },
  {
   "cell_type": "code",
   "execution_count": null,
   "id": "6efcb4de",
   "metadata": {},
   "outputs": [],
   "source": []
  }
 ],
 "metadata": {
  "kernelspec": {
   "display_name": "Python 3 (ipykernel)",
   "language": "python",
   "name": "python3"
  },
  "language_info": {
   "codemirror_mode": {
    "name": "ipython",
    "version": 3
   },
   "file_extension": ".py",
   "mimetype": "text/x-python",
   "name": "python",
   "nbconvert_exporter": "python",
   "pygments_lexer": "ipython3",
   "version": "3.8.7"
  }
 },
 "nbformat": 4,
 "nbformat_minor": 5
}
